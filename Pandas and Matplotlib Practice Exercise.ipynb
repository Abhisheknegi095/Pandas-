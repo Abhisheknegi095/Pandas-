{
 "cells": [
  {
   "cell_type": "code",
   "execution_count": 1,
   "metadata": {},
   "outputs": [],
   "source": [
    "import pandas as pd\n",
    "import numpy as np\n",
    "import matplotlib.pyplot as plt\n",
    "import seaborn as sns"
   ]
  },
  {
   "cell_type": "code",
   "execution_count": 2,
   "metadata": {},
   "outputs": [
    {
     "data": {
      "text/html": [
       "<div>\n",
       "<style scoped>\n",
       "    .dataframe tbody tr th:only-of-type {\n",
       "        vertical-align: middle;\n",
       "    }\n",
       "\n",
       "    .dataframe tbody tr th {\n",
       "        vertical-align: top;\n",
       "    }\n",
       "\n",
       "    .dataframe thead th {\n",
       "        text-align: right;\n",
       "    }\n",
       "</style>\n",
       "<table border=\"1\" class=\"dataframe\">\n",
       "  <thead>\n",
       "    <tr style=\"text-align: right;\">\n",
       "      <th></th>\n",
       "      <th>Name</th>\n",
       "      <th>City</th>\n",
       "      <th>Math_Score</th>\n",
       "      <th>Co_Curr_Score</th>\n",
       "      <th>Fee_Discount(%age)</th>\n",
       "      <th>Opted_Bus</th>\n",
       "      <th>Personality_Score</th>\n",
       "      <th>Fee</th>\n",
       "      <th>Age</th>\n",
       "    </tr>\n",
       "  </thead>\n",
       "  <tbody>\n",
       "    <tr>\n",
       "      <th>0</th>\n",
       "      <td>Ankit</td>\n",
       "      <td>Mumbai</td>\n",
       "      <td>78</td>\n",
       "      <td>6.7</td>\n",
       "      <td>5</td>\n",
       "      <td>1</td>\n",
       "      <td>3.2</td>\n",
       "      <td>P</td>\n",
       "      <td>23.0</td>\n",
       "    </tr>\n",
       "    <tr>\n",
       "      <th>1</th>\n",
       "      <td>Shreya</td>\n",
       "      <td>Delhi</td>\n",
       "      <td>67</td>\n",
       "      <td>NaN</td>\n",
       "      <td>0</td>\n",
       "      <td>0</td>\n",
       "      <td>1.9</td>\n",
       "      <td>R</td>\n",
       "      <td>19.0</td>\n",
       "    </tr>\n",
       "    <tr>\n",
       "      <th>2</th>\n",
       "      <td>Akansha</td>\n",
       "      <td>Pune</td>\n",
       "      <td>56</td>\n",
       "      <td>7.0</td>\n",
       "      <td>0</td>\n",
       "      <td>0</td>\n",
       "      <td>4.1</td>\n",
       "      <td>P</td>\n",
       "      <td>22.0</td>\n",
       "    </tr>\n",
       "    <tr>\n",
       "      <th>3</th>\n",
       "      <td>Riddhi</td>\n",
       "      <td>Mumbai</td>\n",
       "      <td>45</td>\n",
       "      <td>9.0</td>\n",
       "      <td>10</td>\n",
       "      <td>1</td>\n",
       "      <td>4.2</td>\n",
       "      <td>R</td>\n",
       "      <td>20.0</td>\n",
       "    </tr>\n",
       "    <tr>\n",
       "      <th>4</th>\n",
       "      <td>Shubham</td>\n",
       "      <td>Mumbai</td>\n",
       "      <td>34</td>\n",
       "      <td>8.1</td>\n",
       "      <td>5</td>\n",
       "      <td>1</td>\n",
       "      <td>3.9</td>\n",
       "      <td>P</td>\n",
       "      <td>21.0</td>\n",
       "    </tr>\n",
       "    <tr>\n",
       "      <th>5</th>\n",
       "      <td>Rahul</td>\n",
       "      <td>Delhi</td>\n",
       "      <td>89</td>\n",
       "      <td>3.8</td>\n",
       "      <td>15</td>\n",
       "      <td>1</td>\n",
       "      <td>NaN</td>\n",
       "      <td>P</td>\n",
       "      <td>23.0</td>\n",
       "    </tr>\n",
       "    <tr>\n",
       "      <th>6</th>\n",
       "      <td>Mridul</td>\n",
       "      <td>Lucknow</td>\n",
       "      <td>32</td>\n",
       "      <td>2.3</td>\n",
       "      <td>20</td>\n",
       "      <td>1</td>\n",
       "      <td>3.5</td>\n",
       "      <td>R</td>\n",
       "      <td>24.0</td>\n",
       "    </tr>\n",
       "    <tr>\n",
       "      <th>7</th>\n",
       "      <td>Harsh</td>\n",
       "      <td>Pune</td>\n",
       "      <td>93</td>\n",
       "      <td>5.1</td>\n",
       "      <td>10</td>\n",
       "      <td>0</td>\n",
       "      <td>2.4</td>\n",
       "      <td>R</td>\n",
       "      <td>20.0</td>\n",
       "    </tr>\n",
       "    <tr>\n",
       "      <th>8</th>\n",
       "      <td>Yashika</td>\n",
       "      <td>Delhi</td>\n",
       "      <td>78</td>\n",
       "      <td>6.3</td>\n",
       "      <td>10</td>\n",
       "      <td>0</td>\n",
       "      <td>4.4</td>\n",
       "      <td>R</td>\n",
       "      <td>19.0</td>\n",
       "    </tr>\n",
       "    <tr>\n",
       "      <th>9</th>\n",
       "      <td>Ritwik</td>\n",
       "      <td>Kolkata</td>\n",
       "      <td>82</td>\n",
       "      <td>7.5</td>\n",
       "      <td>20</td>\n",
       "      <td>1</td>\n",
       "      <td>3.6</td>\n",
       "      <td>P</td>\n",
       "      <td>23.0</td>\n",
       "    </tr>\n",
       "    <tr>\n",
       "      <th>10</th>\n",
       "      <td>Sharvil</td>\n",
       "      <td>Pune</td>\n",
       "      <td>90</td>\n",
       "      <td>3.4</td>\n",
       "      <td>0</td>\n",
       "      <td>0</td>\n",
       "      <td>4.0</td>\n",
       "      <td>P</td>\n",
       "      <td>22.0</td>\n",
       "    </tr>\n",
       "    <tr>\n",
       "      <th>11</th>\n",
       "      <td>Ritesh</td>\n",
       "      <td>Pune</td>\n",
       "      <td>81</td>\n",
       "      <td>5.1</td>\n",
       "      <td>10</td>\n",
       "      <td>1</td>\n",
       "      <td>3.2</td>\n",
       "      <td>R</td>\n",
       "      <td>20.0</td>\n",
       "    </tr>\n",
       "    <tr>\n",
       "      <th>12</th>\n",
       "      <td>Saurav</td>\n",
       "      <td>Kolkata</td>\n",
       "      <td>74</td>\n",
       "      <td>7.8</td>\n",
       "      <td>15</td>\n",
       "      <td>0</td>\n",
       "      <td>3.6</td>\n",
       "      <td>P</td>\n",
       "      <td>19.0</td>\n",
       "    </tr>\n",
       "    <tr>\n",
       "      <th>13</th>\n",
       "      <td>Pankaj</td>\n",
       "      <td>Delhi</td>\n",
       "      <td>65</td>\n",
       "      <td>9.1</td>\n",
       "      <td>20</td>\n",
       "      <td>0</td>\n",
       "      <td>4.4</td>\n",
       "      <td>R</td>\n",
       "      <td>18.0</td>\n",
       "    </tr>\n",
       "    <tr>\n",
       "      <th>14</th>\n",
       "      <td>Prashant</td>\n",
       "      <td>Lucknow</td>\n",
       "      <td>56</td>\n",
       "      <td>6.7</td>\n",
       "      <td>5</td>\n",
       "      <td>1</td>\n",
       "      <td>4.0</td>\n",
       "      <td>P</td>\n",
       "      <td>NaN</td>\n",
       "    </tr>\n",
       "  </tbody>\n",
       "</table>\n",
       "</div>"
      ],
      "text/plain": [
       "        Name     City  Math_Score  Co_Curr_Score  Fee_Discount(%age)  \\\n",
       "0      Ankit   Mumbai          78            6.7                   5   \n",
       "1     Shreya    Delhi          67            NaN                   0   \n",
       "2    Akansha     Pune          56            7.0                   0   \n",
       "3     Riddhi   Mumbai          45            9.0                  10   \n",
       "4    Shubham   Mumbai          34            8.1                   5   \n",
       "5      Rahul    Delhi          89            3.8                  15   \n",
       "6     Mridul  Lucknow          32            2.3                  20   \n",
       "7      Harsh     Pune          93            5.1                  10   \n",
       "8    Yashika    Delhi          78            6.3                  10   \n",
       "9     Ritwik  Kolkata          82            7.5                  20   \n",
       "10   Sharvil     Pune          90            3.4                   0   \n",
       "11    Ritesh     Pune          81            5.1                  10   \n",
       "12    Saurav  Kolkata          74            7.8                  15   \n",
       "13    Pankaj    Delhi          65            9.1                  20   \n",
       "14  Prashant  Lucknow          56            6.7                   5   \n",
       "\n",
       "    Opted_Bus  Personality_Score Fee   Age  \n",
       "0           1                3.2   P  23.0  \n",
       "1           0                1.9   R  19.0  \n",
       "2           0                4.1   P  22.0  \n",
       "3           1                4.2   R  20.0  \n",
       "4           1                3.9   P  21.0  \n",
       "5           1                NaN   P  23.0  \n",
       "6           1                3.5   R  24.0  \n",
       "7           0                2.4   R  20.0  \n",
       "8           0                4.4   R  19.0  \n",
       "9           1                3.6   P  23.0  \n",
       "10          0                4.0   P  22.0  \n",
       "11          1                3.2   R  20.0  \n",
       "12          0                3.6   P  19.0  \n",
       "13          0                4.4   R  18.0  \n",
       "14          1                4.0   P   NaN  "
      ]
     },
     "execution_count": 2,
     "metadata": {},
     "output_type": "execute_result"
    }
   ],
   "source": [
    "d = {'Name':['Ankit','Shreya','Akansha','Riddhi','Shubham','Rahul',\n",
    "            'Mridul','Harsh','Yashika','Ritwik','Sharvil','Ritesh',\n",
    "            'Saurav','Pankaj','Prashant','Ritu'],\n",
    "     'City':['Mumbai','Delhi','Pune','Mumbai','Mumbai','Delhi','Lucknow',\n",
    "            'Pune','Delhi','Kolkata','Pune','Pune','Kolkata','Delhi','Lucknow','Delhi'],\n",
    "    'Math_Score':[78,67,56,45,34,89,32,93,78,82,90,81,74,65,56,85],\n",
    "     'Co_Curr_Score':[6.7,np.nan,7.0,9.0,8.1,3.8,2.3,5.1,6.3,7.5,3.4,5.1,7.8,9.1,6.7,8.0],\n",
    "    'Fee_Discount(%age)':[5,0,0,10,5,15,20,10,10,20,0,10,15,20,5,0],\n",
    "    'Opted_Bus':[1,0,0,1,1,1,1,0,0,1,0,1,0,0,1,1],\n",
    "    'Personality_Score':[3.2,1.9,4.1,4.2,3.9,np.nan,3.5,2.4,4.4,3.6,4.0,3.2,3.6,4.4,4.0,3.8],\n",
    "     'Fee':['P','R','P','R','P','P','R','R','R','P','P','R','P','R','P','P'],\n",
    "    'Age':[23,19,22,20,21,23,24,20,19,23,22,20,19,18,np.nan,24]}\n",
    "\n",
    "# Fee = 'P' = pending, 'R'= Recieved\n",
    "# Opted Bus = 1- opted for bus, 0- not opted for bus\n",
    "df = pd.DataFrame(d)\n",
    "df.head(15)"
   ]
  },
  {
   "cell_type": "markdown",
   "metadata": {},
   "source": [
    "#### Questions\n",
    "\n",
    "1) Read the dataset<br>\n",
    "2) Remove/ Handle null values if any<br>\n",
    "3) Find the description of the dataset<br>\n",
    "4) Depict different city count on a bar chart and a line chart separately<br>\n",
    "5) Depict quartile distribution of Personality Score<br>\n",
    "6) Depcit frequency distribution of Age<br>\n",
    "7) For all those students with personality score>3.0 depict percentage distribution of Maths score obtained of all the students on a chart <br>\n",
    "8) For all those students opted for Bus, find the Avg Co_Curr_Score<br>\n",
    "9) Depict the Personality_Score vs Co_Curr_Score on a scatter plot<br>\n",
    "10) Depict mean of Math score based on City on a bar and a line chart superimposed<br>\n",
    "11) For all those students who fees is pending(P) or who have opted for bus, find mean of Personality Score and Co_Curr Score<br>\n"
   ]
  },
  {
   "cell_type": "markdown",
   "metadata": {},
   "source": [
    "Remove/ Handle null values if any"
   ]
  },
  {
   "cell_type": "code",
   "execution_count": 7,
   "metadata": {},
   "outputs": [
    {
     "data": {
      "text/plain": [
       "Name                  0\n",
       "City                  0\n",
       "Math_Score            0\n",
       "Co_Curr_Score         0\n",
       "Fee_Discount(%age)    0\n",
       "Opted_Bus             0\n",
       "Personality_Score     0\n",
       "Fee                   0\n",
       "Age                   0\n",
       "dtype: int64"
      ]
     },
     "execution_count": 7,
     "metadata": {},
     "output_type": "execute_result"
    }
   ],
   "source": [
    "df.isnull().sum()"
   ]
  },
  {
   "cell_type": "code",
   "execution_count": 4,
   "metadata": {},
   "outputs": [
    {
     "name": "stdout",
     "output_type": "stream",
     "text": [
      "<class 'pandas.core.frame.DataFrame'>\n",
      "RangeIndex: 16 entries, 0 to 15\n",
      "Data columns (total 9 columns):\n",
      " #   Column              Non-Null Count  Dtype  \n",
      "---  ------              --------------  -----  \n",
      " 0   Name                16 non-null     object \n",
      " 1   City                16 non-null     object \n",
      " 2   Math_Score          16 non-null     int64  \n",
      " 3   Co_Curr_Score       15 non-null     float64\n",
      " 4   Fee_Discount(%age)  16 non-null     int64  \n",
      " 5   Opted_Bus           16 non-null     int64  \n",
      " 6   Personality_Score   15 non-null     float64\n",
      " 7   Fee                 16 non-null     object \n",
      " 8   Age                 15 non-null     float64\n",
      "dtypes: float64(3), int64(3), object(3)\n",
      "memory usage: 1.2+ KB\n"
     ]
    }
   ],
   "source": [
    "df.info()"
   ]
  },
  {
   "cell_type": "code",
   "execution_count": 6,
   "metadata": {},
   "outputs": [],
   "source": [
    "df['Co_Curr_Score'].fillna(df['Co_Curr_Score'].mean(),inplace=True)\n",
    "df['Personality_Score'].fillna(df['Personality_Score'].mean(),inplace=True)\n",
    "df['Age'].fillna(df['Age'].mean(),inplace=True)"
   ]
  },
  {
   "cell_type": "markdown",
   "metadata": {},
   "source": [
    " Find the description of the dataset"
   ]
  },
  {
   "cell_type": "code",
   "execution_count": 8,
   "metadata": {},
   "outputs": [
    {
     "data": {
      "text/html": [
       "<div>\n",
       "<style scoped>\n",
       "    .dataframe tbody tr th:only-of-type {\n",
       "        vertical-align: middle;\n",
       "    }\n",
       "\n",
       "    .dataframe tbody tr th {\n",
       "        vertical-align: top;\n",
       "    }\n",
       "\n",
       "    .dataframe thead th {\n",
       "        text-align: right;\n",
       "    }\n",
       "</style>\n",
       "<table border=\"1\" class=\"dataframe\">\n",
       "  <thead>\n",
       "    <tr style=\"text-align: right;\">\n",
       "      <th></th>\n",
       "      <th>Math_Score</th>\n",
       "      <th>Co_Curr_Score</th>\n",
       "      <th>Fee_Discount(%age)</th>\n",
       "      <th>Opted_Bus</th>\n",
       "      <th>Personality_Score</th>\n",
       "      <th>Age</th>\n",
       "    </tr>\n",
       "  </thead>\n",
       "  <tbody>\n",
       "    <tr>\n",
       "      <th>count</th>\n",
       "      <td>16.000000</td>\n",
       "      <td>16.000000</td>\n",
       "      <td>16.000000</td>\n",
       "      <td>16.000000</td>\n",
       "      <td>16.000000</td>\n",
       "      <td>16.000000</td>\n",
       "    </tr>\n",
       "    <tr>\n",
       "      <th>mean</th>\n",
       "      <td>69.062500</td>\n",
       "      <td>6.393333</td>\n",
       "      <td>9.062500</td>\n",
       "      <td>0.562500</td>\n",
       "      <td>3.613333</td>\n",
       "      <td>21.133333</td>\n",
       "    </tr>\n",
       "    <tr>\n",
       "      <th>std</th>\n",
       "      <td>19.495192</td>\n",
       "      <td>1.986107</td>\n",
       "      <td>7.352721</td>\n",
       "      <td>0.512348</td>\n",
       "      <td>0.683000</td>\n",
       "      <td>1.927578</td>\n",
       "    </tr>\n",
       "    <tr>\n",
       "      <th>min</th>\n",
       "      <td>32.000000</td>\n",
       "      <td>2.300000</td>\n",
       "      <td>0.000000</td>\n",
       "      <td>0.000000</td>\n",
       "      <td>1.900000</td>\n",
       "      <td>18.000000</td>\n",
       "    </tr>\n",
       "    <tr>\n",
       "      <th>25%</th>\n",
       "      <td>56.000000</td>\n",
       "      <td>5.100000</td>\n",
       "      <td>3.750000</td>\n",
       "      <td>0.000000</td>\n",
       "      <td>3.425000</td>\n",
       "      <td>19.750000</td>\n",
       "    </tr>\n",
       "    <tr>\n",
       "      <th>50%</th>\n",
       "      <td>76.000000</td>\n",
       "      <td>6.700000</td>\n",
       "      <td>10.000000</td>\n",
       "      <td>1.000000</td>\n",
       "      <td>3.706667</td>\n",
       "      <td>21.066667</td>\n",
       "    </tr>\n",
       "    <tr>\n",
       "      <th>75%</th>\n",
       "      <td>82.750000</td>\n",
       "      <td>7.850000</td>\n",
       "      <td>15.000000</td>\n",
       "      <td>1.000000</td>\n",
       "      <td>4.025000</td>\n",
       "      <td>23.000000</td>\n",
       "    </tr>\n",
       "    <tr>\n",
       "      <th>max</th>\n",
       "      <td>93.000000</td>\n",
       "      <td>9.100000</td>\n",
       "      <td>20.000000</td>\n",
       "      <td>1.000000</td>\n",
       "      <td>4.400000</td>\n",
       "      <td>24.000000</td>\n",
       "    </tr>\n",
       "  </tbody>\n",
       "</table>\n",
       "</div>"
      ],
      "text/plain": [
       "       Math_Score  Co_Curr_Score  Fee_Discount(%age)  Opted_Bus  \\\n",
       "count   16.000000      16.000000           16.000000  16.000000   \n",
       "mean    69.062500       6.393333            9.062500   0.562500   \n",
       "std     19.495192       1.986107            7.352721   0.512348   \n",
       "min     32.000000       2.300000            0.000000   0.000000   \n",
       "25%     56.000000       5.100000            3.750000   0.000000   \n",
       "50%     76.000000       6.700000           10.000000   1.000000   \n",
       "75%     82.750000       7.850000           15.000000   1.000000   \n",
       "max     93.000000       9.100000           20.000000   1.000000   \n",
       "\n",
       "       Personality_Score        Age  \n",
       "count          16.000000  16.000000  \n",
       "mean            3.613333  21.133333  \n",
       "std             0.683000   1.927578  \n",
       "min             1.900000  18.000000  \n",
       "25%             3.425000  19.750000  \n",
       "50%             3.706667  21.066667  \n",
       "75%             4.025000  23.000000  \n",
       "max             4.400000  24.000000  "
      ]
     },
     "execution_count": 8,
     "metadata": {},
     "output_type": "execute_result"
    }
   ],
   "source": [
    "df.describe()"
   ]
  },
  {
   "cell_type": "markdown",
   "metadata": {},
   "source": [
    "Depict different city count on a bar chart and a line chart separately"
   ]
  },
  {
   "cell_type": "code",
   "execution_count": 11,
   "metadata": {},
   "outputs": [],
   "source": [
    "r=df['City'].value_counts()"
   ]
  },
  {
   "cell_type": "code",
   "execution_count": 81,
   "metadata": {},
   "outputs": [
    {
     "data": {
      "image/png": "[encoded data removed]",
      "text/plain": [
       "<Figure size 432x288 with 1 Axes>"
      ]
     },
     "metadata": {
      "needs_background": "light"
     },
     "output_type": "display_data"
    }
   ],
   "source": [
    "plt.bar(r.index,r.values,label='number of city',color='pink')\n",
    "plt.xlabel('City')\n",
    "plt.ylabel('Count')\n",
    "plt.legend()\n",
    "plt.grid()\n",
    "plt.show()"
   ]
  },
  {
   "cell_type": "code",
   "execution_count": 80,
   "metadata": {},
   "outputs": [
    {
     "data": {
      "image/png": "[encoded data removed]",
      "text/plain": [
       "<Figure size 432x288 with 1 Axes>"
      ]
     },
     "metadata": {
      "needs_background": "light"
     },
     "output_type": "display_data"
    }
   ],
   "source": [
    "plt.plot(r.index,r.values,label='number of city',color='violet')\n",
    "plt.xlabel('City')\n",
    "plt.ylabel('Count')\n",
    "plt.legend()\n",
    "plt.grid()\n",
    "plt.show()"
   ]
  },
  {
   "cell_type": "markdown",
   "metadata": {},
   "source": [
    "Depict quartile distribution of Personality Score"
   ]
  },
  {
   "cell_type": "code",
   "execution_count": 79,
   "metadata": {},
   "outputs": [
    {
     "data": {
      "image/png": "[encoded data removed]",
      "text/plain": [
       "<Figure size 432x288 with 1 Axes>"
      ]
     },
     "metadata": {
      "needs_background": "light"
     },
     "output_type": "display_data"
    }
   ],
   "source": [
    "plt.boxplot(df['Personality_Score'])\n",
    "plt.grid()\n",
    "plt.show()"
   ]
  },
  {
   "cell_type": "markdown",
   "metadata": {},
   "source": [
    "Depcit frequency distribution of Age"
   ]
  },
  {
   "cell_type": "code",
   "execution_count": 19,
   "metadata": {},
   "outputs": [
    {
     "data": {
      "text/plain": [
       "23.000000    3\n",
       "19.000000    3\n",
       "20.000000    3\n",
       "22.000000    2\n",
       "24.000000    2\n",
       "21.000000    1\n",
       "18.000000    1\n",
       "21.133333    1\n",
       "Name: Age, dtype: int64"
      ]
     },
     "execution_count": 19,
     "metadata": {},
     "output_type": "execute_result"
    }
   ],
   "source": [
    "c= df['Age'].value_counts()\n",
    "c"
   ]
  },
  {
   "cell_type": "code",
   "execution_count": 77,
   "metadata": {},
   "outputs": [
    {
     "data": {
      "image/png": "[encoded data removed]",
      "text/plain": [
       "<Figure size 432x288 with 1 Axes>"
      ]
     },
     "metadata": {
      "needs_background": "light"
     },
     "output_type": "display_data"
    }
   ],
   "source": [
    "plt.hist(df['Age'],bins=list(range(19,25)),label='frequency_of_age',color='lightgreen')\n",
    "plt.xlabel('AGE')\n",
    "plt.ylabel('Frequency')\n",
    "plt.legend()\n",
    "plt.grid()\n",
    "plt.show()"
   ]
  },
  {
   "cell_type": "markdown",
   "metadata": {},
   "source": [
    "For all those students with personality score>3.0 depict percentage distribution of Maths score obtained of all the students on a chart"
   ]
  },
  {
   "cell_type": "code",
   "execution_count": 31,
   "metadata": {},
   "outputs": [
    {
     "data": {
      "text/html": [
       "<div>\n",
       "<style scoped>\n",
       "    .dataframe tbody tr th:only-of-type {\n",
       "        vertical-align: middle;\n",
       "    }\n",
       "\n",
       "    .dataframe tbody tr th {\n",
       "        vertical-align: top;\n",
       "    }\n",
       "\n",
       "    .dataframe thead th {\n",
       "        text-align: right;\n",
       "    }\n",
       "</style>\n",
       "<table border=\"1\" class=\"dataframe\">\n",
       "  <thead>\n",
       "    <tr style=\"text-align: right;\">\n",
       "      <th></th>\n",
       "      <th>Name</th>\n",
       "      <th>City</th>\n",
       "      <th>Math_Score</th>\n",
       "      <th>Co_Curr_Score</th>\n",
       "      <th>Fee_Discount(%age)</th>\n",
       "      <th>Opted_Bus</th>\n",
       "      <th>Personality_Score</th>\n",
       "      <th>Fee</th>\n",
       "      <th>Age</th>\n",
       "    </tr>\n",
       "  </thead>\n",
       "  <tbody>\n",
       "    <tr>\n",
       "      <th>0</th>\n",
       "      <td>Ankit</td>\n",
       "      <td>Mumbai</td>\n",
       "      <td>78</td>\n",
       "      <td>6.7</td>\n",
       "      <td>5</td>\n",
       "      <td>1</td>\n",
       "      <td>3.200000</td>\n",
       "      <td>P</td>\n",
       "      <td>23.000000</td>\n",
       "    </tr>\n",
       "    <tr>\n",
       "      <th>2</th>\n",
       "      <td>Akansha</td>\n",
       "      <td>Pune</td>\n",
       "      <td>56</td>\n",
       "      <td>7.0</td>\n",
       "      <td>0</td>\n",
       "      <td>0</td>\n",
       "      <td>4.100000</td>\n",
       "      <td>P</td>\n",
       "      <td>22.000000</td>\n",
       "    </tr>\n",
       "    <tr>\n",
       "      <th>3</th>\n",
       "      <td>Riddhi</td>\n",
       "      <td>Mumbai</td>\n",
       "      <td>45</td>\n",
       "      <td>9.0</td>\n",
       "      <td>10</td>\n",
       "      <td>1</td>\n",
       "      <td>4.200000</td>\n",
       "      <td>R</td>\n",
       "      <td>20.000000</td>\n",
       "    </tr>\n",
       "    <tr>\n",
       "      <th>4</th>\n",
       "      <td>Shubham</td>\n",
       "      <td>Mumbai</td>\n",
       "      <td>34</td>\n",
       "      <td>8.1</td>\n",
       "      <td>5</td>\n",
       "      <td>1</td>\n",
       "      <td>3.900000</td>\n",
       "      <td>P</td>\n",
       "      <td>21.000000</td>\n",
       "    </tr>\n",
       "    <tr>\n",
       "      <th>5</th>\n",
       "      <td>Rahul</td>\n",
       "      <td>Delhi</td>\n",
       "      <td>89</td>\n",
       "      <td>3.8</td>\n",
       "      <td>15</td>\n",
       "      <td>1</td>\n",
       "      <td>3.613333</td>\n",
       "      <td>P</td>\n",
       "      <td>23.000000</td>\n",
       "    </tr>\n",
       "    <tr>\n",
       "      <th>6</th>\n",
       "      <td>Mridul</td>\n",
       "      <td>Lucknow</td>\n",
       "      <td>32</td>\n",
       "      <td>2.3</td>\n",
       "      <td>20</td>\n",
       "      <td>1</td>\n",
       "      <td>3.500000</td>\n",
       "      <td>R</td>\n",
       "      <td>24.000000</td>\n",
       "    </tr>\n",
       "    <tr>\n",
       "      <th>8</th>\n",
       "      <td>Yashika</td>\n",
       "      <td>Delhi</td>\n",
       "      <td>78</td>\n",
       "      <td>6.3</td>\n",
       "      <td>10</td>\n",
       "      <td>0</td>\n",
       "      <td>4.400000</td>\n",
       "      <td>R</td>\n",
       "      <td>19.000000</td>\n",
       "    </tr>\n",
       "    <tr>\n",
       "      <th>9</th>\n",
       "      <td>Ritwik</td>\n",
       "      <td>Kolkata</td>\n",
       "      <td>82</td>\n",
       "      <td>7.5</td>\n",
       "      <td>20</td>\n",
       "      <td>1</td>\n",
       "      <td>3.600000</td>\n",
       "      <td>P</td>\n",
       "      <td>23.000000</td>\n",
       "    </tr>\n",
       "    <tr>\n",
       "      <th>10</th>\n",
       "      <td>Sharvil</td>\n",
       "      <td>Pune</td>\n",
       "      <td>90</td>\n",
       "      <td>3.4</td>\n",
       "      <td>0</td>\n",
       "      <td>0</td>\n",
       "      <td>4.000000</td>\n",
       "      <td>P</td>\n",
       "      <td>22.000000</td>\n",
       "    </tr>\n",
       "    <tr>\n",
       "      <th>11</th>\n",
       "      <td>Ritesh</td>\n",
       "      <td>Pune</td>\n",
       "      <td>81</td>\n",
       "      <td>5.1</td>\n",
       "      <td>10</td>\n",
       "      <td>1</td>\n",
       "      <td>3.200000</td>\n",
       "      <td>R</td>\n",
       "      <td>20.000000</td>\n",
       "    </tr>\n",
       "    <tr>\n",
       "      <th>12</th>\n",
       "      <td>Saurav</td>\n",
       "      <td>Kolkata</td>\n",
       "      <td>74</td>\n",
       "      <td>7.8</td>\n",
       "      <td>15</td>\n",
       "      <td>0</td>\n",
       "      <td>3.600000</td>\n",
       "      <td>P</td>\n",
       "      <td>19.000000</td>\n",
       "    </tr>\n",
       "    <tr>\n",
       "      <th>13</th>\n",
       "      <td>Pankaj</td>\n",
       "      <td>Delhi</td>\n",
       "      <td>65</td>\n",
       "      <td>9.1</td>\n",
       "      <td>20</td>\n",
       "      <td>0</td>\n",
       "      <td>4.400000</td>\n",
       "      <td>R</td>\n",
       "      <td>18.000000</td>\n",
       "    </tr>\n",
       "    <tr>\n",
       "      <th>14</th>\n",
       "      <td>Prashant</td>\n",
       "      <td>Lucknow</td>\n",
       "      <td>56</td>\n",
       "      <td>6.7</td>\n",
       "      <td>5</td>\n",
       "      <td>1</td>\n",
       "      <td>4.000000</td>\n",
       "      <td>P</td>\n",
       "      <td>21.133333</td>\n",
       "    </tr>\n",
       "    <tr>\n",
       "      <th>15</th>\n",
       "      <td>Ritu</td>\n",
       "      <td>Delhi</td>\n",
       "      <td>85</td>\n",
       "      <td>8.0</td>\n",
       "      <td>0</td>\n",
       "      <td>1</td>\n",
       "      <td>3.800000</td>\n",
       "      <td>P</td>\n",
       "      <td>24.000000</td>\n",
       "    </tr>\n",
       "  </tbody>\n",
       "</table>\n",
       "</div>"
      ],
      "text/plain": [
       "        Name     City  Math_Score  Co_Curr_Score  Fee_Discount(%age)  \\\n",
       "0      Ankit   Mumbai          78            6.7                   5   \n",
       "2    Akansha     Pune          56            7.0                   0   \n",
       "3     Riddhi   Mumbai          45            9.0                  10   \n",
       "4    Shubham   Mumbai          34            8.1                   5   \n",
       "5      Rahul    Delhi          89            3.8                  15   \n",
       "6     Mridul  Lucknow          32            2.3                  20   \n",
       "8    Yashika    Delhi          78            6.3                  10   \n",
       "9     Ritwik  Kolkata          82            7.5                  20   \n",
       "10   Sharvil     Pune          90            3.4                   0   \n",
       "11    Ritesh     Pune          81            5.1                  10   \n",
       "12    Saurav  Kolkata          74            7.8                  15   \n",
       "13    Pankaj    Delhi          65            9.1                  20   \n",
       "14  Prashant  Lucknow          56            6.7                   5   \n",
       "15      Ritu    Delhi          85            8.0                   0   \n",
       "\n",
       "    Opted_Bus  Personality_Score Fee        Age  \n",
       "0           1           3.200000   P  23.000000  \n",
       "2           0           4.100000   P  22.000000  \n",
       "3           1           4.200000   R  20.000000  \n",
       "4           1           3.900000   P  21.000000  \n",
       "5           1           3.613333   P  23.000000  \n",
       "6           1           3.500000   R  24.000000  \n",
       "8           0           4.400000   R  19.000000  \n",
       "9           1           3.600000   P  23.000000  \n",
       "10          0           4.000000   P  22.000000  \n",
       "11          1           3.200000   R  20.000000  \n",
       "12          0           3.600000   P  19.000000  \n",
       "13          0           4.400000   R  18.000000  \n",
       "14          1           4.000000   P  21.133333  \n",
       "15          1           3.800000   P  24.000000  "
      ]
     },
     "execution_count": 31,
     "metadata": {},
     "output_type": "execute_result"
    }
   ],
   "source": [
    "z=df[df['Personality_Score']>3.0]\n",
    "z"
   ]
  },
  {
   "cell_type": "code",
   "execution_count": 26,
   "metadata": {},
   "outputs": [
    {
     "data": {
      "text/plain": [
       "78    2\n",
       "56    2\n",
       "45    1\n",
       "34    1\n",
       "89    1\n",
       "32    1\n",
       "82    1\n",
       "90    1\n",
       "81    1\n",
       "74    1\n",
       "65    1\n",
       "85    1\n",
       "Name: Math_Score, dtype: int64"
      ]
     },
     "execution_count": 26,
     "metadata": {},
     "output_type": "execute_result"
    }
   ],
   "source": [
    "z[\"Math_Score\"].value_counts()"
   ]
  },
  {
   "cell_type": "code",
   "execution_count": 66,
   "metadata": {},
   "outputs": [
    {
     "data": {
      "image/png": "[encoded data removed]",
      "text/plain": [
       "<Figure size 720x720 with 1 Axes>"
      ]
     },
     "metadata": {},
     "output_type": "display_data"
    }
   ],
   "source": [
    "plt.figure(figsize=(10,10))\n",
    "plt.pie(z['Math_Score'],labels=z[\"Name\"],shadow=True,autopct='%0.2f%%')\n",
    "plt.show()"
   ]
  },
  {
   "cell_type": "markdown",
   "metadata": {},
   "source": [
    "For all those students opted for Bus, find the Avg Co_Curr_Score"
   ]
  },
  {
   "cell_type": "code",
   "execution_count": 36,
   "metadata": {},
   "outputs": [
    {
     "data": {
      "text/plain": [
       "6.355555555555556"
      ]
     },
     "execution_count": 36,
     "metadata": {},
     "output_type": "execute_result"
    }
   ],
   "source": [
    "df[df['Opted_Bus']==1]['Co_Curr_Score'].mean()"
   ]
  },
  {
   "cell_type": "markdown",
   "metadata": {},
   "source": [
    "Depict the Personality_Score vs Co_Curr_Score on a scatter plot"
   ]
  },
  {
   "cell_type": "code",
   "execution_count": 76,
   "metadata": {},
   "outputs": [
    {
     "data": {
      "image/png": "[encoded data removed]",
      "text/plain": [
       "<Figure size 432x288 with 1 Axes>"
      ]
     },
     "metadata": {
      "needs_background": "light"
     },
     "output_type": "display_data"
    }
   ],
   "source": [
    "plt.scatter(df['Personality_Score'],df['Co_Curr_Score'],color='orange',marker='*',s=100)\n",
    "plt.xlabel('Personality_Score')\n",
    "plt.ylabel('Co_Curr_Score')\n",
    "plt.grid()\n",
    "plt.show()"
   ]
  },
  {
   "cell_type": "markdown",
   "metadata": {},
   "source": [
    "Depict mean of Math score based on City on a bar and a line chart superimposed\n"
   ]
  },
  {
   "cell_type": "code",
   "execution_count": 69,
   "metadata": {},
   "outputs": [
    {
     "data": {
      "text/plain": [
       "City\n",
       "Delhi      76.800000\n",
       "Kolkata    78.000000\n",
       "Lucknow    44.000000\n",
       "Mumbai     52.333333\n",
       "Pune       80.000000\n",
       "Name: Math_Score, dtype: float64"
      ]
     },
     "execution_count": 69,
     "metadata": {},
     "output_type": "execute_result"
    }
   ],
   "source": [
    "x=df.groupby(['City'])['Math_Score'].mean()\n",
    "x"
   ]
  },
  {
   "cell_type": "code",
   "execution_count": 72,
   "metadata": {},
   "outputs": [
    {
     "data": {
      "image/png": "[encoded data removed]",
      "text/plain": [
       "<Figure size 432x288 with 1 Axes>"
      ]
     },
     "metadata": {
      "needs_background": "light"
     },
     "output_type": "display_data"
    }
   ],
   "source": [
    "plt.bar(x.index,x.values,color='green')\n",
    "plt.plot(x.index,x.values,color='red')\n",
    "plt.xlabel('City')\n",
    "plt.ylabel('Mean_score')\n",
    "plt.show() "
   ]
  },
  {
   "cell_type": "markdown",
   "metadata": {},
   "source": [
    "For all those students who fees is pending(P) or who have opted for bus, find mean of Personality Score and Co_Curr Score"
   ]
  },
  {
   "cell_type": "code",
   "execution_count": 49,
   "metadata": {},
   "outputs": [],
   "source": [
    "z1=df[(df['Fee']=='P')| (df['Opted_Bus']==1)]['Personality_Score'].mean()\n",
    "z2=df[(df['Fee']=='P')| (df['Opted_Bus']==1)]['Co_Curr_Score'].mean()"
   ]
  },
  {
   "cell_type": "code",
   "execution_count": 83,
   "metadata": {},
   "outputs": [
    {
     "name": "stdout",
     "output_type": "stream",
     "text": [
      "mean of Personality Score 3.726111111111111  and  mean of Co_Curr Score 6.283333333333332\n"
     ]
    }
   ],
   "source": [
    "print('mean of Personality Score',z1,' and',' mean of Co_Curr Score',z2)"
   ]
  },
  {
   "cell_type": "code",
   "execution_count": null,
   "metadata": {},
   "outputs": [],
   "source": []
  },
  {
   "cell_type": "markdown",
   "metadata": {},
   "source": []
  },
  {
   "cell_type": "code",
   "execution_count": null,
   "metadata": {},
   "outputs": [],
   "source": []
  },
  {
   "cell_type": "code",
   "execution_count": null,
   "metadata": {},
   "outputs": [],
   "source": []
  }
 ],
 "metadata": {
  "kernelspec": {
   "display_name": "Python 3 (ipykernel)",
   "language": "python",
   "name": "python3"
  },
  "language_info": {
   "codemirror_mode": {
    "name": "ipython",
    "version": 3
   },
   "file_extension": ".py",
   "mimetype": "text/x-python",
   "name": "python",
   "nbconvert_exporter": "python",
   "pygments_lexer": "ipython3",
   "version": "3.9.7"
  }
 },
 "nbformat": 4,
 "nbformat_minor": 2
}
